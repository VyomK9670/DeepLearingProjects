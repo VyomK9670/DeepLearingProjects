{
 "cells": [
  {
   "cell_type": "markdown",
   "id": "9ba974b7",
   "metadata": {},
   "source": [
    "### ----------------------------------------------------- Working with the Webcam -----------------------------------------------------\n",
    "\n",
    "Getting started in working with web cams on our jupyter notebooks. We will be using the **cv2 library** to **capture the frames to continuously display** the frames and even to plot the frames.\n",
    "\n",
    "We will use the **function VideoCapture()** which is a part of **cv2 library** and is used to **capture frames inside the function** we will pass the value 0 **if we are using inbuilt camera or 1 2 3 depending in which port did you connected your external camera in most cases 1 will work.** \n",
    "\n",
    "Let’s get started with displaying frames using web cams.\n",
    "\n",
    "#Code"
   ]
  },
  {
   "cell_type": "code",
   "execution_count": null,
   "id": "475b8a46",
   "metadata": {},
   "outputs": [],
   "source": [
    "import numpy as np # linear algebra\n",
    "import pandas as pd # data processing, CSV file I/O (e.g. pd.read_csv)\n",
    "import cv2 as cv"
   ]
  },
  {
   "cell_type": "code",
   "execution_count": null,
   "id": "529095fa",
   "metadata": {},
   "outputs": [],
   "source": [
    "cam = cv.VideoCapture(0)\n",
    "\n",
    "while True:\n",
    "    _,img = cam.read()\n",
    "    cv.imshow(\"Frame\",img)\n",
    "    cv.waitKey(0)\n",
    "    key = cv.waitKey(1)  # How much time it need to take pause\n",
    "    if key == 20 :\n",
    "        cam.release()\n",
    "        break"
   ]
  },
  {
   "cell_type": "markdown",
   "id": "73cf4c49",
   "metadata": {},
   "source": [
    "### Cropping the image coing into the frame and also filt or rotation too"
   ]
  },
  {
   "cell_type": "code",
   "execution_count": null,
   "id": "9edbb0a5",
   "metadata": {},
   "outputs": [],
   "source": [
    "cam = cv.VideoCapture(0)\n",
    "\n",
    "while True:\n",
    "    _,img = cam.read()\n",
    "    flip_img = cv.flip(img,0)  # 1 shape as input 0 means 180 degree fliping\n",
    "    crop_img = cv.img[0:400,300:,:2]\n",
    "    \n",
    "    cv.imshow(\"Crop Frame\",crop_img)\n",
    "    cv.imshow(\"Frame\",img)\n",
    "    cv.imshow(\"Flip Frame\",flip_img)\n",
    "    \n",
    "    cv.waitKey(0)\n",
    "    key = cv.waitKey(1)  # How much time it need to take pause\n",
    "    if key == 20 :\n",
    "        cam.release()\n",
    "        break"
   ]
  },
  {
   "cell_type": "code",
   "execution_count": null,
   "id": "05c2bd71",
   "metadata": {},
   "outputs": [],
   "source": []
  }
 ],
 "metadata": {
  "kernelspec": {
   "display_name": "Python 3 (ipykernel)",
   "language": "python",
   "name": "python3"
  },
  "language_info": {
   "codemirror_mode": {
    "name": "ipython",
    "version": 3
   },
   "file_extension": ".py",
   "mimetype": "text/x-python",
   "name": "python",
   "nbconvert_exporter": "python",
   "pygments_lexer": "ipython3",
   "version": "3.10.2"
  }
 },
 "nbformat": 4,
 "nbformat_minor": 5
}
